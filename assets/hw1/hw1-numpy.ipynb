{
  "cells": [
    {
      "cell_type": "markdown",
      "metadata": {
        "id": "3wV8r6fT9kc6"
      },
      "source": [
        "# How to Use This Homework:\n",
        "**Submit this notebook to gradescope.**\n",
        "\n"
      ]
    },
    {
      "cell_type": "markdown",
      "metadata": {
        "id": "Y15K5NNx8ak7"
      },
      "source": [
        "# Intro to Numpy\n",
        "\n",
        "## What is Numpy and why do we use it?\n",
        "\n",
        "It's an awesome python package that adds support for large, multi-dimensional arrays. Really good for vector operations, matrix operations because its super parallelized so its super fast!\n",
        "\n",
        "## Why not Python lists?\n",
        "\n",
        "Python lists have certain limitations: they don’t support “vectorized” operations like elementwise addition and multiplication, and the fact that they can contain objects of differing types mean that Python must store type information for every element, and must execute type dispatching code when operating on each element. This also means that very few list operations can be carried out by efficient C loops – each iteration would require type checks and other Python API bookkeeping.\n",
        "\n",
        "## Reading\n",
        "\n",
        "**REQUIRED**\n",
        "- [What is NumPy](https://numpy.org/doc/stable/user/whatisnumpy.html#whatisnumpy)\n",
        "\n",
        "**Highly highly recommended:**\n",
        "- [NumPy: the absolute basics for beginners](https://numpy.org/doc/stable/user/absolute_beginners.html)\n",
        "\n",
        "I you read those articles, feel free to skip all the way to the exercises at the bottom. If you don't like reading too much, however, we have also summarized the main topics in this notebook.\n",
        "\n"
      ]
    },
    {
      "cell_type": "markdown",
      "metadata": {
        "id": "P3TKsR4c8alB"
      },
      "source": [
        "### Importing numpy\n",
        "Functions for numerical computiing are provided by a separate module called `numpy` which we must import. Colab already has it installed so we don't need to invoke `pip` or `conda`.\n",
        "\n",
        "By convention, we import numpy using the alias `np`.\n",
        "\n",
        "Once we have done this we can prefix the functions in the numpy library using the prefix `np`."
      ]
    },
    {
      "cell_type": "code",
      "execution_count": null,
      "metadata": {
        "id": "v2PBNhvg8alC"
      },
      "outputs": [],
      "source": [
        "# This is the de facto way to import NumPy. You probably don't want to write numpy.whatever every time\n",
        "import numpy as np"
      ]
    },
    {
      "cell_type": "markdown",
      "metadata": {
        "id": "LvkHK-fh8alG"
      },
      "source": [
        "### Numpy Arrays\n",
        "NumPy arrays are the workhorse of the library. A NumPy array is essentially a bunch of data coupled with some metadata. The two main properties of an array are:\n",
        "\n",
        "`dtype`: the type of objects in the array. This will typically be floating-point numbers for our purposes, but other types can be stored, for example `int`, `np.int32`, etc.\n",
        "\n",
        "`shape`: the dimensions of the array. This is given as a tuple, where element $i$ of the tuple tells you how the \"length\" of the array in the $i$th dimension. For example, a 10-dimensional vector would have shape (10,), a 32-by-100 matrix would have shape (32,100), etc.\n",
        "\n",
        "Let's see some examples! There are number of ways to construct arrays. One is to pass in a Python sequence (such as list or tuple) to the `np.array` function:"
      ]
    },
    {
      "cell_type": "code",
      "execution_count": null,
      "metadata": {
        "colab": {
          "base_uri": "https://localhost:8080/"
        },
        "id": "U80LJuZ_8alG",
        "outputId": "0863633f-5723-4ffb-9bff-86c93c419d29"
      },
      "outputs": [
        {
          "data": {
            "text/plain": [
              "array([ 1. ,  2.3, -6. ])"
            ]
          },
          "execution_count": 3,
          "metadata": {},
          "output_type": "execute_result"
        }
      ],
      "source": [
        "np.array([1, 2.3, -6])"
      ]
    },
    {
      "cell_type": "markdown",
      "metadata": {
        "collapsed": true,
        "id": "By4XWHnb8alJ"
      },
      "source": [
        "We can also easily create ordered numerical lists!"
      ]
    },
    {
      "cell_type": "code",
      "execution_count": null,
      "metadata": {
        "colab": {
          "base_uri": "https://localhost:8080/"
        },
        "id": "sIVqslQt8alJ",
        "outputId": "1b7b2779-3cd1-41e3-bce6-92f15a190eaa"
      },
      "outputs": [
        {
          "name": "stdout",
          "output_type": "stream",
          "text": [
            "[0 1 2 3 4 5 6]\n",
            "[3 4 5 6 7 8]\n"
          ]
        }
      ],
      "source": [
        "# Remember we zero index so you will actually get 0 to 6!\n",
        "print(np.arange(7))\n",
        "# Remember the list wont include 9\n",
        "print(np.arange(3, 9))"
      ]
    },
    {
      "cell_type": "markdown",
      "metadata": {
        "id": "iCrqms7F8alK"
      },
      "source": [
        "We can also customize these list with a third paramter that specifices step size"
      ]
    },
    {
      "cell_type": "code",
      "execution_count": null,
      "metadata": {
        "colab": {
          "base_uri": "https://localhost:8080/"
        },
        "id": "BQ_O0VHl8alK",
        "outputId": "1ba4ced1-6d7b-499e-866e-34c7086596c2"
      },
      "outputs": [
        {
          "data": {
            "text/plain": [
              "array([ 0., 10., 20., 30., 40., 50., 60., 70., 80., 90.])"
            ]
          },
          "execution_count": 5,
          "metadata": {},
          "output_type": "execute_result"
        }
      ],
      "source": [
        "np.arange(0.0, 100.0, 10.0)"
      ]
    },
    {
      "cell_type": "markdown",
      "metadata": {
        "id": "HQHJ4s5g8alL"
      },
      "source": [
        "To create a multi-dimensional array, we'll need to nest the sequences:"
      ]
    },
    {
      "cell_type": "code",
      "execution_count": null,
      "metadata": {
        "colab": {
          "base_uri": "https://localhost:8080/"
        },
        "id": "GPZN5TJe8alM",
        "outputId": "73a08c79-2a71-42df-94b4-555aadf993c6"
      },
      "outputs": [
        {
          "data": {
            "text/plain": [
              "array([[ 1. ,  2.3, -6. ],\n",
              "       [ 7. ,  8. ,  9. ]])"
            ]
          },
          "execution_count": 6,
          "metadata": {},
          "output_type": "execute_result"
        }
      ],
      "source": [
        "np.array([[1, 2.3, -6], [7, 8, 9]])"
      ]
    },
    {
      "cell_type": "markdown",
      "metadata": {
        "id": "ZANALr088alM"
      },
      "source": [
        "Neat!\n",
        "\n",
        "There are also many convenience functions for constructing special arrays. Here are some that might be useful:"
      ]
    },
    {
      "cell_type": "code",
      "execution_count": null,
      "metadata": {
        "colab": {
          "base_uri": "https://localhost:8080/"
        },
        "id": "_3ZnL0nl8alQ",
        "outputId": "ea7520be-7c0a-4ffd-8889-81aa6821b087"
      },
      "outputs": [
        {
          "data": {
            "text/plain": [
              "(array([[0., 0., 0., 0.],\n",
              "        [0., 0., 0., 0.],\n",
              "        [0., 0., 0., 0.],\n",
              "        [0., 0., 0., 0.],\n",
              "        [0., 0., 0., 0.],\n",
              "        [0., 0., 0., 0.],\n",
              "        [0., 0., 0., 0.],\n",
              "        [0., 0., 0., 0.]]), array([1., 1., 1.]))"
            ]
          },
          "execution_count": 7,
          "metadata": {},
          "output_type": "execute_result"
        }
      ],
      "source": [
        "#An array of all zeros or ones with the given shape\n",
        "np.zeros((8,4)), np.ones(3)"
      ]
    },
    {
      "cell_type": "code",
      "execution_count": null,
      "metadata": {
        "colab": {
          "base_uri": "https://localhost:8080/"
        },
        "id": "Sc2cOfVj8alR",
        "outputId": "9b76cc03-03a5-4dc0-a4bb-fb86d5af69ff"
      },
      "outputs": [
        {
          "data": {
            "text/plain": [
              "array([[2.1, 2.1, 2.1, 2.1],\n",
              "       [2.1, 2.1, 2.1, 2.1],\n",
              "       [2.1, 2.1, 2.1, 2.1]])"
            ]
          },
          "execution_count": 8,
          "metadata": {},
          "output_type": "execute_result"
        }
      ],
      "source": [
        "# An array with a given shape full of a specified value\n",
        "np.full((3,4), 2.1)"
      ]
    },
    {
      "cell_type": "code",
      "execution_count": null,
      "metadata": {
        "colab": {
          "base_uri": "https://localhost:8080/"
        },
        "id": "8L-IMNqi8alN",
        "outputId": "064a9790-7e08-49af-be35-332e70226f4e"
      },
      "outputs": [
        {
          "data": {
            "text/plain": [
              "array([[1., 0., 0., 0., 0., 0., 0.],\n",
              "       [0., 1., 0., 0., 0., 0., 0.],\n",
              "       [0., 0., 1., 0., 0., 0., 0.],\n",
              "       [0., 0., 0., 1., 0., 0., 0.],\n",
              "       [0., 0., 0., 0., 1., 0., 0.],\n",
              "       [0., 0., 0., 0., 0., 1., 0.],\n",
              "       [0., 0., 0., 0., 0., 0., 1.]])"
            ]
          },
          "execution_count": 9,
          "metadata": {},
          "output_type": "execute_result"
        }
      ],
      "source": [
        "# The identity matrix of given size\n",
        "np.eye(7)"
      ]
    },
    {
      "cell_type": "code",
      "execution_count": null,
      "metadata": {
        "colab": {
          "base_uri": "https://localhost:8080/"
        },
        "id": "6CZkAwiJ8alO",
        "outputId": "8b9d662a-dbb8-497a-a5fc-bda67b5469bb"
      },
      "outputs": [
        {
          "data": {
            "text/plain": [
              "array([[1.1, 0. , 0. ],\n",
              "       [0. , 2.2, 0. ],\n",
              "       [0. , 0. , 3.3]])"
            ]
          },
          "execution_count": 10,
          "metadata": {},
          "output_type": "execute_result"
        }
      ],
      "source": [
        "# A matrix with the given vector on the diagonal\n",
        "np.diag([1.1,2.2,3.3])"
      ]
    },
    {
      "cell_type": "code",
      "execution_count": null,
      "metadata": {
        "colab": {
          "base_uri": "https://localhost:8080/"
        },
        "id": "mMCtQViL8alS",
        "outputId": "d3785f76-463d-41f3-cc49-8d46e201812c"
      },
      "outputs": [
        {
          "data": {
            "text/plain": [
              "array([[ 1.49947355,  0.77207632,  1.74946051,  3.201643  ,  1.291625  ,\n",
              "        -0.65876623],\n",
              "       [ 0.70665789,  0.64861766,  1.990828  ,  0.82373191, -0.33457905,\n",
              "        -0.00944851],\n",
              "       [ 0.6068724 ,  0.62116146, -1.40239849,  1.37027616, -0.0625712 ,\n",
              "        -1.5058081 ],\n",
              "       [ 0.44789014, -1.02971778,  0.73045723,  0.07194212,  0.10792204,\n",
              "         2.80381111],\n",
              "       [ 0.30015552, -0.75308723,  0.59054757,  1.05464314, -1.47736747,\n",
              "         0.23693835]])"
            ]
          },
          "execution_count": 11,
          "metadata": {},
          "output_type": "execute_result"
        }
      ],
      "source": [
        "# A random (standard normal distribution) array with the given shape\n",
        "np.random.randn(5,6)"
      ]
    },
    {
      "cell_type": "markdown",
      "metadata": {
        "id": "nkG-oO-98alU"
      },
      "source": [
        "Okay now let's suppose we have some data in an array so we can start doing stuff with it.\n"
      ]
    },
    {
      "cell_type": "code",
      "execution_count": null,
      "metadata": {
        "colab": {
          "base_uri": "https://localhost:8080/"
        },
        "id": "QwhuxbHn8alU",
        "outputId": "34baf86a-b380-4977-dfe4-4326fa423ed1"
      },
      "outputs": [
        {
          "data": {
            "text/plain": [
              "(array([[ 0.10882091,  1.51110932,  1.19814949,  1.01954477,  0.86412898],\n",
              "        [-1.21735813, -1.30236174, -1.55240119, -0.08809033,  1.33109368],\n",
              "        [ 1.15830419,  0.23552008,  1.48021792, -0.53222308, -0.31131772],\n",
              "        [-0.84691928, -1.63079474,  1.06223148, -0.22999939, -2.15845904],\n",
              "        [ 0.13580315, -1.01639065,  1.15018107,  0.44569404,  0.52633996],\n",
              "        [ 1.05547614, -1.4618105 , -0.16959151, -0.95513908,  0.09578875],\n",
              "        [-0.06849025, -1.41634473, -1.08894509, -1.0819531 ,  0.01802485],\n",
              "        [-0.87312581, -0.67508097, -2.53602823, -1.23306495,  0.33961724],\n",
              "        [ 0.44030479,  0.55120153, -0.47233571, -0.30268   , -1.47831753],\n",
              "        [ 0.47127162,  2.24589499,  0.02756872, -0.0663055 , -0.70980512]]),\n",
              " array([ 0.24293601,  0.3512939 , -0.9490539 , -0.20106744,  0.48109302]))"
            ]
          },
          "execution_count": 4,
          "metadata": {},
          "output_type": "execute_result"
        }
      ],
      "source": [
        "A = np.random.randn(10,5); x = np.random.randn(5)\n",
        "A, x"
      ]
    },
    {
      "cell_type": "markdown",
      "metadata": {
        "id": "QSFV-Skg8alW"
      },
      "source": [
        "One useful thing that NumPy lets us do efficiently is apply the same function to every element in an array. You'll often need to e.g. exponentiate a bunch of values, but if you use a list comprehension or map with the builtin Python math functions it may be really slow. Instead just write"
      ]
    },
    {
      "cell_type": "code",
      "execution_count": null,
      "metadata": {
        "colab": {
          "base_uri": "https://localhost:8080/"
        },
        "id": "SyPpFPm08alW",
        "outputId": "c27e07d8-c6af-456b-fff1-88903f5f1dc2"
      },
      "outputs": [
        {
          "data": {
            "text/plain": [
              "array([[1.11496265, 4.53175519, 3.31397869, 2.77193261, 2.3729383 ],\n",
              "       [0.29601116, 0.2718889 , 0.21173894, 0.91567816, 3.78518088],\n",
              "       [3.18452835, 1.2655668 , 4.39390308, 0.58729791, 0.73248112],\n",
              "       [0.42873371, 0.19577392, 2.89281906, 0.79453408, 0.11550297],\n",
              "       [1.14545639, 0.3618988 , 3.1587648 , 1.56157362, 1.69272551],\n",
              "       [2.87334293, 0.23181619, 0.84400951, 0.38475863, 1.10052655],\n",
              "       [0.93380257, 0.24259916, 0.33657136, 0.33893291, 1.01818828],\n",
              "       [0.41764403, 0.5091152 , 0.07918026, 0.29139809, 1.40440993],\n",
              "       [1.55318054, 1.73533682, 0.62354415, 0.73883548, 0.228021  ],\n",
              "       [1.60203008, 9.44886844, 1.02795226, 0.93584492, 0.49174002]])"
            ]
          },
          "execution_count": 5,
          "metadata": {},
          "output_type": "execute_result"
        }
      ],
      "source": [
        "# log, sin, cos, etc. work similarly\n",
        "np.exp(A)"
      ]
    },
    {
      "cell_type": "markdown",
      "metadata": {
        "id": "u-XUzDYs8alX"
      },
      "source": [
        "We can take the sum/mean/standard deviation/etc. of all the elements in an array:"
      ]
    },
    {
      "cell_type": "code",
      "execution_count": null,
      "metadata": {
        "colab": {
          "base_uri": "https://localhost:8080/"
        },
        "id": "e7PRWcOE8alX",
        "outputId": "3f0bd2a2-44b6-4b64-a950-59559cae160a"
      },
      "outputs": [
        {
          "data": {
            "text/plain": [
              "(-0.07479841325060094, -0.014959682650120187, 0.5203629992966963)"
            ]
          },
          "execution_count": 6,
          "metadata": {},
          "output_type": "execute_result"
        }
      ],
      "source": [
        "np.sum(x), np.mean(x), np.std(x)"
      ]
    },
    {
      "cell_type": "code",
      "execution_count": null,
      "metadata": {
        "colab": {
          "base_uri": "https://localhost:8080/"
        },
        "id": "kj_mDsA6C_FU",
        "outputId": "faec7024-d7aa-4fc3-9313-e19874682b79"
      },
      "outputs": [
        {
          "data": {
            "text/plain": [
              "(1.7320508075688772,\n",
              " array([1.41421356, 1.        ]),\n",
              " array([1.        , 1.41421356]))"
            ]
          },
          "execution_count": 15,
          "metadata": {},
          "output_type": "execute_result"
        }
      ],
      "source": [
        "# L2 norm of a matrix, or along a certain dimension\n",
        "C = np.array([\n",
        "              [-1,0],\n",
        "              [1, 1]\n",
        "              ])\n",
        "np.linalg.norm(C, ord=2), np.linalg.norm(C, axis=0), np.linalg.norm(C, axis=1)"
      ]
    },
    {
      "cell_type": "markdown",
      "metadata": {
        "id": "J2_LT2-v8alY"
      },
      "source": [
        "You can also specify an axis over which to compute the sum if you want a vector of row/column sums (again, sum here can be replaced with mean or other operations):"
      ]
    },
    {
      "cell_type": "code",
      "execution_count": null,
      "metadata": {
        "colab": {
          "base_uri": "https://localhost:8080/"
        },
        "id": "thcubgNh8alY",
        "outputId": "5ce2f04b-b029-4b4f-dbf1-cd32c097ab0e"
      },
      "outputs": [
        {
          "data": {
            "text/plain": [
              "(array([[0, 1],\n",
              "        [2, 3]]), array([2, 4]), array([1, 5]))"
            ]
          },
          "execution_count": 16,
          "metadata": {},
          "output_type": "execute_result"
        }
      ],
      "source": [
        "# Create an array with numbers in the range 0,...,3 (similar to the normal Python range function,\n",
        "# but it returns a NumPy array) and then reshape it to a 2x2 matrix\n",
        "B = np.arange(4).reshape((2,2))\n",
        "\n",
        "# Original matrix, column sum, row sum\n",
        "B, np.sum(B, axis=0), np.sum(B, axis=1)"
      ]
    },
    {
      "cell_type": "markdown",
      "metadata": {
        "id": "MPWU_rp48alZ"
      },
      "source": [
        "### Linear Algebra\n",
        "By now we have a pretty good idea of how data is stored and accessed within NumPy arrays. But we typically want to do something more \"interesting\", which for our ML purposes usually means linear algebra operations. Fortunately, numpy has good support for such routines. Let's see some examples!"
      ]
    },
    {
      "cell_type": "code",
      "execution_count": null,
      "metadata": {
        "colab": {
          "base_uri": "https://localhost:8080/"
        },
        "id": "eoevxHAp8ala",
        "outputId": "6d2e311a-873b-445f-84eb-e27736542625"
      },
      "outputs": [
        {
          "data": {
            "text/plain": [
              "array([[0, 2],\n",
              "       [1, 3]])"
            ]
          },
          "execution_count": 17,
          "metadata": {},
          "output_type": "execute_result"
        }
      ],
      "source": [
        "# Transpose a matrix\n",
        "B.T"
      ]
    },
    {
      "cell_type": "code",
      "execution_count": null,
      "metadata": {
        "colab": {
          "base_uri": "https://localhost:8080/"
        },
        "id": "12jDsNsh8alZ",
        "outputId": "e9ec9cb6-af62-4ea2-a301-8d5b15cc72ff"
      },
      "outputs": [
        {
          "data": {
            "text/plain": [
              "array([-2.01603875, -0.61950257, -0.02300866, -2.91676626,  5.465012  ,\n",
              "        3.42067688,  1.75297056,  0.1310891 ,  0.50453917, -0.74023708])"
            ]
          },
          "execution_count": 18,
          "metadata": {},
          "output_type": "execute_result"
        }
      ],
      "source": [
        "# Matrix-vector product. The dimensions have to match, of course\n",
        "A.dot(x)\n",
        "# Note that in Python3 there is also a slick notation A @ x which does the same thing"
      ]
    },
    {
      "cell_type": "code",
      "execution_count": null,
      "metadata": {
        "colab": {
          "base_uri": "https://localhost:8080/"
        },
        "id": "jEr_7ZOpCxVK",
        "outputId": "1d24784b-660b-4235-b2d9-9073bed5c57d"
      },
      "outputs": [
        {
          "data": {
            "text/plain": [
              "array([[ 2,  3],\n",
              "       [ 6, 11]])"
            ]
          },
          "execution_count": 19,
          "metadata": {},
          "output_type": "execute_result"
        }
      ],
      "source": [
        "# Matrix multiplication\n",
        "np.matmul(B, B)"
      ]
    },
    {
      "cell_type": "code",
      "execution_count": null,
      "metadata": {
        "colab": {
          "base_uri": "https://localhost:8080/"
        },
        "id": "unSuZIcrD1Sy",
        "outputId": "25d5a17f-733b-47f7-9b6c-de71dc954b44"
      },
      "outputs": [
        {
          "data": {
            "text/plain": [
              "array([[ 2,  3],\n",
              "       [ 6, 11]])"
            ]
          },
          "execution_count": 20,
          "metadata": {},
          "output_type": "execute_result"
        }
      ],
      "source": [
        "# Cooler syntax\n",
        "B @ B"
      ]
    },
    {
      "cell_type": "markdown",
      "metadata": {
        "id": "VqkcQUuM8alb"
      },
      "source": [
        "Now that you're familiar with numpy feel free to check out the documentation and see what else you can do! Documentation can be found here: https://docs.scipy.org/doc/ or https://numpy.org/doc/"
      ]
    },
    {
      "cell_type": "markdown",
      "metadata": {
        "id": "KwmyIczYOWGl"
      },
      "source": [
        "---"
      ]
    },
    {
      "cell_type": "markdown",
      "metadata": {
        "collapsed": true,
        "id": "k7BppAMu8alc"
      },
      "source": [
        "# Exercises"
      ]
    },
    {
      "cell_type": "markdown",
      "metadata": {
        "id": "D_MsuPkk7rEX"
      },
      "source": [
        "## Basic Problems\n",
        "\n",
        "Lets try out all the new numpy stuff we just learned! Even if you have experience in numpy we suggest trying these out."
      ]
    },
    {
      "cell_type": "markdown",
      "metadata": {
        "id": "guTkvTyl8alT"
      },
      "source": [
        "Okay your turn! In the cell belows try and create:\n",
        "\n",
        "\n",
        "<b>0) A diagonal matrix with values from 1-20 (try and create this and only type two numbers!)</b>"
      ]
    },
    {
      "cell_type": "code",
      "execution_count": null,
      "metadata": {
        "id": "O7GTycf-8alU"
      },
      "outputs": [],
      "source": [
        "#Your answer here"
      ]
    },
    {
      "cell_type": "markdown",
      "metadata": {
        "id": "OkWvsOi38ale"
      },
      "source": [
        "<b>1) Create a vector of size 10 containing zeros </b>"
      ]
    },
    {
      "cell_type": "code",
      "execution_count": null,
      "metadata": {
        "id": "k14Tidf68alh"
      },
      "outputs": [],
      "source": [
        "## FILL IN YOUR ANSWER HERE ##"
      ]
    },
    {
      "cell_type": "markdown",
      "metadata": {
        "id": "asWdTJnv8ali"
      },
      "source": [
        "<b>2) Now change the fifth value to be 5 </b>"
      ]
    },
    {
      "cell_type": "code",
      "execution_count": null,
      "metadata": {
        "id": "I7WwFvaq8alj"
      },
      "outputs": [],
      "source": [
        "## FILL IN YOUR ANSWER HERE ##"
      ]
    },
    {
      "cell_type": "markdown",
      "metadata": {
        "id": "lgBPsEDC8all"
      },
      "source": [
        "<b>3) Create a vector with values ranging from 10 to 49</b>"
      ]
    },
    {
      "cell_type": "code",
      "execution_count": null,
      "metadata": {
        "id": "F3o7_Vc68all"
      },
      "outputs": [],
      "source": [
        "## FILL IN YOUR ANSWER HERE ##"
      ]
    },
    {
      "cell_type": "markdown",
      "metadata": {
        "id": "m1DNrHNZ8aln"
      },
      "source": [
        "<b>4) Reverse the previous vector (first element becomes last)</b>"
      ]
    },
    {
      "cell_type": "code",
      "execution_count": null,
      "metadata": {
        "id": "wBI2GY-H8aln"
      },
      "outputs": [],
      "source": [
        "## FILL IN YOUR ANSWER HERE ##"
      ]
    },
    {
      "cell_type": "markdown",
      "metadata": {
        "id": "DOvg0YrU8alp"
      },
      "source": [
        "<b>5) Create a 3x3 matrix with values ranging from 0 to 8. Create a 1D array first and then resshape it</b>"
      ]
    },
    {
      "cell_type": "code",
      "execution_count": null,
      "metadata": {
        "id": "brDH0eE58alr"
      },
      "outputs": [],
      "source": [
        "## FILL IN YOUR ANSWER HERE ##"
      ]
    },
    {
      "cell_type": "markdown",
      "metadata": {
        "id": "g6BRW9gP8alr"
      },
      "source": [
        "<b>6) Create a 3x3x3 array with random values</b>"
      ]
    },
    {
      "cell_type": "code",
      "execution_count": null,
      "metadata": {
        "id": "8h5No3At8als"
      },
      "outputs": [],
      "source": [
        "## FILL IN YOUR ANSWER HERE ##"
      ]
    },
    {
      "cell_type": "markdown",
      "metadata": {
        "id": "VhnoX9qV8als"
      },
      "source": [
        "<b>7) Create a random array and find the sum, mean, and standard deviation</b>"
      ]
    },
    {
      "cell_type": "code",
      "execution_count": null,
      "metadata": {
        "id": "hTWfeWes8als"
      },
      "outputs": [],
      "source": [
        "## FILL IN YOUR ANSWER HERE ##"
      ]
    },
    {
      "cell_type": "markdown",
      "metadata": {
        "id": "oLWJuM7F9ALm"
      },
      "source": [
        "**8) Standardise the array above using the mean and standard deviation from above**"
      ]
    },
    {
      "cell_type": "code",
      "execution_count": null,
      "metadata": {
        "id": "BPy368ZA9L4K"
      },
      "outputs": [],
      "source": [
        "## FILL IN YOUR ANSWER HERE ##"
      ]
    },
    {
      "cell_type": "markdown",
      "metadata": {
        "id": "6miZUi-5sU5O"
      },
      "source": [
        "## Linear Regression\n",
        "\n",
        "In this exercise we will do 2D linear regression without bias. As a refresher - in linear regression we essentially have:\n",
        "1. Data matrix $X$ - input data, just the x coordinates in our case\n",
        "2. Labels matrix $b$ - output data, just y coordinates in our case\n",
        "3. Weights matrix $w$ - the weights matrix. In our case just the slope scalar\n",
        "\n",
        "The variables play together as:\n",
        "\n",
        "$$ b = Xw $$\n",
        "\n",
        "And since X is not invertible (it is likely not square), the solution is:\n",
        "\n",
        "$$ w = (X^T X)^{-1} X^T b $$\n",
        "\n",
        "### What are the dimensions of each matrix?\n",
        "**`YOUR ANSWER HERE`**"
      ]
    },
    {
      "cell_type": "markdown",
      "metadata": {
        "id": "pbzKjh0t59z2"
      },
      "source": [
        "### First create data to do linear regression on"
      ]
    },
    {
      "cell_type": "code",
      "execution_count": null,
      "metadata": {
        "id": "dxt5Y8Cy6IGR"
      },
      "outputs": [],
      "source": [
        "# matplotlib for plotting\n",
        "import matplotlib.pyplot as plt"
      ]
    },
    {
      "cell_type": "code",
      "execution_count": null,
      "metadata": {
        "colab": {
          "base_uri": "https://localhost:8080/",
          "height": 283
        },
        "id": "Sohjo2wMEbsN",
        "outputId": "d86577fc-c00d-4123-bab4-8e4eb0f32078"
      },
      "outputs": [
        {
          "data": {
            "text/plain": [
              "<matplotlib.lines.Line2D at 0x7fea7aae5220>"
            ]
          },
          "execution_count": 69,
          "metadata": {},
          "output_type": "execute_result"
        },
        {
          "data": {
            "image/png": "[encoded data removed]",
            "text/plain": [
              "<Figure size 432x288 with 1 Axes>"
            ]
          },
          "metadata": {
            "needs_background": "light"
          },
          "output_type": "display_data"
        }
      ],
      "source": [
        "# sample 50 2D points from a normal distribution\n",
        "# use mean 0\n",
        "# use standard deviation of 5 along the x axis and 1 along the y axis to\n",
        "# essentially sample noisy points along a horizontal line\n",
        "data = # YOUR CODE HERE\n",
        "\n",
        "# skew the line vertically by a random amount\n",
        "data[:, 1] += # YOUR CODE HERE\n",
        "\n",
        "# this is just to plot the data\n",
        "plt.scatter(*data.T)\n",
        "plt.axis('equal')\n",
        "plt.axhline(0, color='lightgray')\n",
        "plt.axvline(0, color='lightgray')"
      ]
    },
    {
      "cell_type": "markdown",
      "metadata": {
        "id": "Kp9pfqRR7ODl"
      },
      "source": [
        "### Perform linear regression"
      ]
    },
    {
      "cell_type": "code",
      "execution_count": null,
      "metadata": {
        "id": "wkGcTrCIENHN"
      },
      "outputs": [],
      "source": [
        "X = # YOUR CODE HERE\n",
        "b = # YOUR CODE HERE\n",
        "w = # YOUR CODE HERE\n",
        "X.shape, b.shape, w"
      ]
    },
    {
      "cell_type": "code",
      "execution_count": null,
      "metadata": {
        "id": "sPcW350pEOuy"
      },
      "outputs": [],
      "source": [
        "plt.scatter(*data.T)\n",
        "plt.plot([X.min(), X.max()], np.array([X.min() * w, X.max() * w]).flatten(), color='red')\n",
        "plt.axis('equal')\n",
        "plt.axhline(0, color='lightgray')\n",
        "plt.axvline(0, color='lightgray')"
      ]
    },
    {
      "cell_type": "markdown",
      "metadata": {
        "id": "lQRv8zCwkPI7"
      },
      "source": [
        "# Submitting\n",
        "\n",
        "To submit, download the file as `.ipynb` and upload it to the correct assignment on Gradescope."
      ]
    }
  ],
  "metadata": {
    "anaconda-cloud": {},
    "colab": {
      "provenance": []
    },
    "kernelspec": {
      "display_name": "Python 3",
      "language": "python",
      "name": "python3"
    },
    "language_info": {
      "codemirror_mode": {
        "name": "ipython",
        "version": 3
      },
      "file_extension": ".py",
      "mimetype": "text/x-python",
      "name": "python",
      "nbconvert_exporter": "python",
      "pygments_lexer": "ipython3",
      "version": "3.7.6"
    }
  },
  "nbformat": 4,
  "nbformat_minor": 0
}
